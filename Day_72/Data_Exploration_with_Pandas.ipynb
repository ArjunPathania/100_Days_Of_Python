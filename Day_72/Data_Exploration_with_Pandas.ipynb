{
  "cells": [
    {
      "cell_type": "markdown",
      "metadata": {
        "id": "uJ5KYjiPV5Ul"
      },
      "source": [
        "## Upload the Data and Read the .csv File"
      ]
    },
    {
      "cell_type": "code",
      "execution_count": 27,
      "metadata": {
        "id": "PNqLi9vgJh97"
      },
      "outputs": [],
      "source": [
        "import pandas as pd"
      ]
    },
    {
      "cell_type": "code",
      "execution_count": 28,
      "metadata": {
        "id": "FLXFmF4tbobK"
      },
      "outputs": [],
      "source": [
        "df = pd.read_csv('salaries_by_college_major.csv')"
      ]
    },
    {
      "cell_type": "code",
      "execution_count": 29,
      "metadata": {
        "colab": {
          "base_uri": "https://localhost:8080/",
          "height": 237
        },
        "id": "sHIcvGzlbuVR",
        "outputId": "14714f37-a000-4562-fb9a-8c96f9af3b20"
      },
      "outputs": [
        {
          "data": {
            "text/html": [
              "<div>\n",
              "<style scoped>\n",
              "    .dataframe tbody tr th:only-of-type {\n",
              "        vertical-align: middle;\n",
              "    }\n",
              "\n",
              "    .dataframe tbody tr th {\n",
              "        vertical-align: top;\n",
              "    }\n",
              "\n",
              "    .dataframe thead th {\n",
              "        text-align: right;\n",
              "    }\n",
              "</style>\n",
              "<table border=\"1\" class=\"dataframe\">\n",
              "  <thead>\n",
              "    <tr style=\"text-align: right;\">\n",
              "      <th></th>\n",
              "      <th>Undergraduate Major</th>\n",
              "      <th>Starting Median Salary</th>\n",
              "      <th>Mid-Career Median Salary</th>\n",
              "      <th>Mid-Career 10th Percentile Salary</th>\n",
              "      <th>Mid-Career 90th Percentile Salary</th>\n",
              "      <th>Group</th>\n",
              "    </tr>\n",
              "  </thead>\n",
              "  <tbody>\n",
              "    <tr>\n",
              "      <th>0</th>\n",
              "      <td>Accounting</td>\n",
              "      <td>46000.0</td>\n",
              "      <td>77100.0</td>\n",
              "      <td>42200.0</td>\n",
              "      <td>152000.0</td>\n",
              "      <td>Business</td>\n",
              "    </tr>\n",
              "    <tr>\n",
              "      <th>1</th>\n",
              "      <td>Aerospace Engineering</td>\n",
              "      <td>64200.0</td>\n",
              "      <td>108300.0</td>\n",
              "      <td>64300.0</td>\n",
              "      <td>161000.0</td>\n",
              "      <td>STEM</td>\n",
              "    </tr>\n",
              "    <tr>\n",
              "      <th>2</th>\n",
              "      <td>Agriculture</td>\n",
              "      <td>42600.0</td>\n",
              "      <td>71900.0</td>\n",
              "      <td>36300.0</td>\n",
              "      <td>150000.0</td>\n",
              "      <td>Business</td>\n",
              "    </tr>\n",
              "    <tr>\n",
              "      <th>3</th>\n",
              "      <td>Anthropology</td>\n",
              "      <td>36800.0</td>\n",
              "      <td>61500.0</td>\n",
              "      <td>33800.0</td>\n",
              "      <td>138000.0</td>\n",
              "      <td>HASS</td>\n",
              "    </tr>\n",
              "    <tr>\n",
              "      <th>4</th>\n",
              "      <td>Architecture</td>\n",
              "      <td>55200.0</td>\n",
              "      <td>85200.0</td>\n",
              "      <td>50600.0</td>\n",
              "      <td>136000.0</td>\n",
              "      <td>Business</td>\n",
              "    </tr>\n",
              "  </tbody>\n",
              "</table>\n",
              "</div>"
            ],
            "text/plain": [
              "     Undergraduate Major  Starting Median Salary  Mid-Career Median Salary  \\\n",
              "0             Accounting                 46000.0                   77100.0   \n",
              "1  Aerospace Engineering                 64200.0                  108300.0   \n",
              "2            Agriculture                 42600.0                   71900.0   \n",
              "3           Anthropology                 36800.0                   61500.0   \n",
              "4           Architecture                 55200.0                   85200.0   \n",
              "\n",
              "   Mid-Career 10th Percentile Salary  Mid-Career 90th Percentile Salary  \\\n",
              "0                            42200.0                           152000.0   \n",
              "1                            64300.0                           161000.0   \n",
              "2                            36300.0                           150000.0   \n",
              "3                            33800.0                           138000.0   \n",
              "4                            50600.0                           136000.0   \n",
              "\n",
              "      Group  \n",
              "0  Business  \n",
              "1      STEM  \n",
              "2  Business  \n",
              "3      HASS  \n",
              "4  Business  "
            ]
          },
          "execution_count": 29,
          "metadata": {},
          "output_type": "execute_result"
        }
      ],
      "source": [
        "df.head()"
      ]
    },
    {
      "cell_type": "markdown",
      "metadata": {
        "id": "KH2jLKmvWB0r"
      },
      "source": [
        "# Data Exploration and Data Cleaning"
      ]
    },
    {
      "cell_type": "code",
      "execution_count": 30,
      "metadata": {
        "colab": {
          "base_uri": "https://localhost:8080/"
        },
        "id": "HngjSfIXfXZ-",
        "outputId": "1a5c94fe-989b-444e-9a59-f793bed061e1"
      },
      "outputs": [
        {
          "data": {
            "text/plain": [
              "(51, 6)"
            ]
          },
          "execution_count": 30,
          "metadata": {},
          "output_type": "execute_result"
        }
      ],
      "source": [
        "df.shape"
      ]
    },
    {
      "cell_type": "code",
      "execution_count": 31,
      "metadata": {
        "colab": {
          "base_uri": "https://localhost:8080/"
        },
        "id": "nbHfTGssi5dr",
        "outputId": "a969def2-27d9-4e01-e26b-ae6b5b4d810a"
      },
      "outputs": [
        {
          "data": {
            "text/plain": [
              "Index(['Undergraduate Major', 'Starting Median Salary',\n",
              "       'Mid-Career Median Salary', 'Mid-Career 10th Percentile Salary',\n",
              "       'Mid-Career 90th Percentile Salary', 'Group'],\n",
              "      dtype='object')"
            ]
          },
          "execution_count": 31,
          "metadata": {},
          "output_type": "execute_result"
        }
      ],
      "source": [
        "df.columns"
      ]
    },
    {
      "cell_type": "code",
      "execution_count": 32,
      "metadata": {
        "colab": {
          "base_uri": "https://localhost:8080/",
          "height": 1000
        },
        "id": "Lwc7l1ZsjXkt",
        "outputId": "72facfe5-0297-48c5-f21e-35c45b179967"
      },
      "outputs": [
        {
          "data": {
            "text/html": [
              "<div>\n",
              "<style scoped>\n",
              "    .dataframe tbody tr th:only-of-type {\n",
              "        vertical-align: middle;\n",
              "    }\n",
              "\n",
              "    .dataframe tbody tr th {\n",
              "        vertical-align: top;\n",
              "    }\n",
              "\n",
              "    .dataframe thead th {\n",
              "        text-align: right;\n",
              "    }\n",
              "</style>\n",
              "<table border=\"1\" class=\"dataframe\">\n",
              "  <thead>\n",
              "    <tr style=\"text-align: right;\">\n",
              "      <th></th>\n",
              "      <th>Undergraduate Major</th>\n",
              "      <th>Starting Median Salary</th>\n",
              "      <th>Mid-Career Median Salary</th>\n",
              "      <th>Mid-Career 10th Percentile Salary</th>\n",
              "      <th>Mid-Career 90th Percentile Salary</th>\n",
              "      <th>Group</th>\n",
              "    </tr>\n",
              "  </thead>\n",
              "  <tbody>\n",
              "    <tr>\n",
              "      <th>0</th>\n",
              "      <td>False</td>\n",
              "      <td>False</td>\n",
              "      <td>False</td>\n",
              "      <td>False</td>\n",
              "      <td>False</td>\n",
              "      <td>False</td>\n",
              "    </tr>\n",
              "    <tr>\n",
              "      <th>1</th>\n",
              "      <td>False</td>\n",
              "      <td>False</td>\n",
              "      <td>False</td>\n",
              "      <td>False</td>\n",
              "      <td>False</td>\n",
              "      <td>False</td>\n",
              "    </tr>\n",
              "    <tr>\n",
              "      <th>2</th>\n",
              "      <td>False</td>\n",
              "      <td>False</td>\n",
              "      <td>False</td>\n",
              "      <td>False</td>\n",
              "      <td>False</td>\n",
              "      <td>False</td>\n",
              "    </tr>\n",
              "    <tr>\n",
              "      <th>3</th>\n",
              "      <td>False</td>\n",
              "      <td>False</td>\n",
              "      <td>False</td>\n",
              "      <td>False</td>\n",
              "      <td>False</td>\n",
              "      <td>False</td>\n",
              "    </tr>\n",
              "    <tr>\n",
              "      <th>4</th>\n",
              "      <td>False</td>\n",
              "      <td>False</td>\n",
              "      <td>False</td>\n",
              "      <td>False</td>\n",
              "      <td>False</td>\n",
              "      <td>False</td>\n",
              "    </tr>\n",
              "    <tr>\n",
              "      <th>5</th>\n",
              "      <td>False</td>\n",
              "      <td>False</td>\n",
              "      <td>False</td>\n",
              "      <td>False</td>\n",
              "      <td>False</td>\n",
              "      <td>False</td>\n",
              "    </tr>\n",
              "    <tr>\n",
              "      <th>6</th>\n",
              "      <td>False</td>\n",
              "      <td>False</td>\n",
              "      <td>False</td>\n",
              "      <td>False</td>\n",
              "      <td>False</td>\n",
              "      <td>False</td>\n",
              "    </tr>\n",
              "    <tr>\n",
              "      <th>7</th>\n",
              "      <td>False</td>\n",
              "      <td>False</td>\n",
              "      <td>False</td>\n",
              "      <td>False</td>\n",
              "      <td>False</td>\n",
              "      <td>False</td>\n",
              "    </tr>\n",
              "    <tr>\n",
              "      <th>8</th>\n",
              "      <td>False</td>\n",
              "      <td>False</td>\n",
              "      <td>False</td>\n",
              "      <td>False</td>\n",
              "      <td>False</td>\n",
              "      <td>False</td>\n",
              "    </tr>\n",
              "    <tr>\n",
              "      <th>9</th>\n",
              "      <td>False</td>\n",
              "      <td>False</td>\n",
              "      <td>False</td>\n",
              "      <td>False</td>\n",
              "      <td>False</td>\n",
              "      <td>False</td>\n",
              "    </tr>\n",
              "    <tr>\n",
              "      <th>10</th>\n",
              "      <td>False</td>\n",
              "      <td>False</td>\n",
              "      <td>False</td>\n",
              "      <td>False</td>\n",
              "      <td>False</td>\n",
              "      <td>False</td>\n",
              "    </tr>\n",
              "    <tr>\n",
              "      <th>11</th>\n",
              "      <td>False</td>\n",
              "      <td>False</td>\n",
              "      <td>False</td>\n",
              "      <td>False</td>\n",
              "      <td>False</td>\n",
              "      <td>False</td>\n",
              "    </tr>\n",
              "    <tr>\n",
              "      <th>12</th>\n",
              "      <td>False</td>\n",
              "      <td>False</td>\n",
              "      <td>False</td>\n",
              "      <td>False</td>\n",
              "      <td>False</td>\n",
              "      <td>False</td>\n",
              "    </tr>\n",
              "    <tr>\n",
              "      <th>13</th>\n",
              "      <td>False</td>\n",
              "      <td>False</td>\n",
              "      <td>False</td>\n",
              "      <td>False</td>\n",
              "      <td>False</td>\n",
              "      <td>False</td>\n",
              "    </tr>\n",
              "    <tr>\n",
              "      <th>14</th>\n",
              "      <td>False</td>\n",
              "      <td>False</td>\n",
              "      <td>False</td>\n",
              "      <td>False</td>\n",
              "      <td>False</td>\n",
              "      <td>False</td>\n",
              "    </tr>\n",
              "    <tr>\n",
              "      <th>15</th>\n",
              "      <td>False</td>\n",
              "      <td>False</td>\n",
              "      <td>False</td>\n",
              "      <td>False</td>\n",
              "      <td>False</td>\n",
              "      <td>False</td>\n",
              "    </tr>\n",
              "    <tr>\n",
              "      <th>16</th>\n",
              "      <td>False</td>\n",
              "      <td>False</td>\n",
              "      <td>False</td>\n",
              "      <td>False</td>\n",
              "      <td>False</td>\n",
              "      <td>False</td>\n",
              "    </tr>\n",
              "    <tr>\n",
              "      <th>17</th>\n",
              "      <td>False</td>\n",
              "      <td>False</td>\n",
              "      <td>False</td>\n",
              "      <td>False</td>\n",
              "      <td>False</td>\n",
              "      <td>False</td>\n",
              "    </tr>\n",
              "    <tr>\n",
              "      <th>18</th>\n",
              "      <td>False</td>\n",
              "      <td>False</td>\n",
              "      <td>False</td>\n",
              "      <td>False</td>\n",
              "      <td>False</td>\n",
              "      <td>False</td>\n",
              "    </tr>\n",
              "    <tr>\n",
              "      <th>19</th>\n",
              "      <td>False</td>\n",
              "      <td>False</td>\n",
              "      <td>False</td>\n",
              "      <td>False</td>\n",
              "      <td>False</td>\n",
              "      <td>False</td>\n",
              "    </tr>\n",
              "    <tr>\n",
              "      <th>20</th>\n",
              "      <td>False</td>\n",
              "      <td>False</td>\n",
              "      <td>False</td>\n",
              "      <td>False</td>\n",
              "      <td>False</td>\n",
              "      <td>False</td>\n",
              "    </tr>\n",
              "    <tr>\n",
              "      <th>21</th>\n",
              "      <td>False</td>\n",
              "      <td>False</td>\n",
              "      <td>False</td>\n",
              "      <td>False</td>\n",
              "      <td>False</td>\n",
              "      <td>False</td>\n",
              "    </tr>\n",
              "    <tr>\n",
              "      <th>22</th>\n",
              "      <td>False</td>\n",
              "      <td>False</td>\n",
              "      <td>False</td>\n",
              "      <td>False</td>\n",
              "      <td>False</td>\n",
              "      <td>False</td>\n",
              "    </tr>\n",
              "    <tr>\n",
              "      <th>23</th>\n",
              "      <td>False</td>\n",
              "      <td>False</td>\n",
              "      <td>False</td>\n",
              "      <td>False</td>\n",
              "      <td>False</td>\n",
              "      <td>False</td>\n",
              "    </tr>\n",
              "    <tr>\n",
              "      <th>24</th>\n",
              "      <td>False</td>\n",
              "      <td>False</td>\n",
              "      <td>False</td>\n",
              "      <td>False</td>\n",
              "      <td>False</td>\n",
              "      <td>False</td>\n",
              "    </tr>\n",
              "    <tr>\n",
              "      <th>25</th>\n",
              "      <td>False</td>\n",
              "      <td>False</td>\n",
              "      <td>False</td>\n",
              "      <td>False</td>\n",
              "      <td>False</td>\n",
              "      <td>False</td>\n",
              "    </tr>\n",
              "    <tr>\n",
              "      <th>26</th>\n",
              "      <td>False</td>\n",
              "      <td>False</td>\n",
              "      <td>False</td>\n",
              "      <td>False</td>\n",
              "      <td>False</td>\n",
              "      <td>False</td>\n",
              "    </tr>\n",
              "    <tr>\n",
              "      <th>27</th>\n",
              "      <td>False</td>\n",
              "      <td>False</td>\n",
              "      <td>False</td>\n",
              "      <td>False</td>\n",
              "      <td>False</td>\n",
              "      <td>False</td>\n",
              "    </tr>\n",
              "    <tr>\n",
              "      <th>28</th>\n",
              "      <td>False</td>\n",
              "      <td>False</td>\n",
              "      <td>False</td>\n",
              "      <td>False</td>\n",
              "      <td>False</td>\n",
              "      <td>False</td>\n",
              "    </tr>\n",
              "    <tr>\n",
              "      <th>29</th>\n",
              "      <td>False</td>\n",
              "      <td>False</td>\n",
              "      <td>False</td>\n",
              "      <td>False</td>\n",
              "      <td>False</td>\n",
              "      <td>False</td>\n",
              "    </tr>\n",
              "    <tr>\n",
              "      <th>30</th>\n",
              "      <td>False</td>\n",
              "      <td>False</td>\n",
              "      <td>False</td>\n",
              "      <td>False</td>\n",
              "      <td>False</td>\n",
              "      <td>False</td>\n",
              "    </tr>\n",
              "    <tr>\n",
              "      <th>31</th>\n",
              "      <td>False</td>\n",
              "      <td>False</td>\n",
              "      <td>False</td>\n",
              "      <td>False</td>\n",
              "      <td>False</td>\n",
              "      <td>False</td>\n",
              "    </tr>\n",
              "    <tr>\n",
              "      <th>32</th>\n",
              "      <td>False</td>\n",
              "      <td>False</td>\n",
              "      <td>False</td>\n",
              "      <td>False</td>\n",
              "      <td>False</td>\n",
              "      <td>False</td>\n",
              "    </tr>\n",
              "    <tr>\n",
              "      <th>33</th>\n",
              "      <td>False</td>\n",
              "      <td>False</td>\n",
              "      <td>False</td>\n",
              "      <td>False</td>\n",
              "      <td>False</td>\n",
              "      <td>False</td>\n",
              "    </tr>\n",
              "    <tr>\n",
              "      <th>34</th>\n",
              "      <td>False</td>\n",
              "      <td>False</td>\n",
              "      <td>False</td>\n",
              "      <td>False</td>\n",
              "      <td>False</td>\n",
              "      <td>False</td>\n",
              "    </tr>\n",
              "    <tr>\n",
              "      <th>35</th>\n",
              "      <td>False</td>\n",
              "      <td>False</td>\n",
              "      <td>False</td>\n",
              "      <td>False</td>\n",
              "      <td>False</td>\n",
              "      <td>False</td>\n",
              "    </tr>\n",
              "    <tr>\n",
              "      <th>36</th>\n",
              "      <td>False</td>\n",
              "      <td>False</td>\n",
              "      <td>False</td>\n",
              "      <td>False</td>\n",
              "      <td>False</td>\n",
              "      <td>False</td>\n",
              "    </tr>\n",
              "    <tr>\n",
              "      <th>37</th>\n",
              "      <td>False</td>\n",
              "      <td>False</td>\n",
              "      <td>False</td>\n",
              "      <td>False</td>\n",
              "      <td>False</td>\n",
              "      <td>False</td>\n",
              "    </tr>\n",
              "    <tr>\n",
              "      <th>38</th>\n",
              "      <td>False</td>\n",
              "      <td>False</td>\n",
              "      <td>False</td>\n",
              "      <td>False</td>\n",
              "      <td>False</td>\n",
              "      <td>False</td>\n",
              "    </tr>\n",
              "    <tr>\n",
              "      <th>39</th>\n",
              "      <td>False</td>\n",
              "      <td>False</td>\n",
              "      <td>False</td>\n",
              "      <td>False</td>\n",
              "      <td>False</td>\n",
              "      <td>False</td>\n",
              "    </tr>\n",
              "    <tr>\n",
              "      <th>40</th>\n",
              "      <td>False</td>\n",
              "      <td>False</td>\n",
              "      <td>False</td>\n",
              "      <td>False</td>\n",
              "      <td>False</td>\n",
              "      <td>False</td>\n",
              "    </tr>\n",
              "    <tr>\n",
              "      <th>41</th>\n",
              "      <td>False</td>\n",
              "      <td>False</td>\n",
              "      <td>False</td>\n",
              "      <td>False</td>\n",
              "      <td>False</td>\n",
              "      <td>False</td>\n",
              "    </tr>\n",
              "    <tr>\n",
              "      <th>42</th>\n",
              "      <td>False</td>\n",
              "      <td>False</td>\n",
              "      <td>False</td>\n",
              "      <td>False</td>\n",
              "      <td>False</td>\n",
              "      <td>False</td>\n",
              "    </tr>\n",
              "    <tr>\n",
              "      <th>43</th>\n",
              "      <td>False</td>\n",
              "      <td>False</td>\n",
              "      <td>False</td>\n",
              "      <td>False</td>\n",
              "      <td>False</td>\n",
              "      <td>False</td>\n",
              "    </tr>\n",
              "    <tr>\n",
              "      <th>44</th>\n",
              "      <td>False</td>\n",
              "      <td>False</td>\n",
              "      <td>False</td>\n",
              "      <td>False</td>\n",
              "      <td>False</td>\n",
              "      <td>False</td>\n",
              "    </tr>\n",
              "    <tr>\n",
              "      <th>45</th>\n",
              "      <td>False</td>\n",
              "      <td>False</td>\n",
              "      <td>False</td>\n",
              "      <td>False</td>\n",
              "      <td>False</td>\n",
              "      <td>False</td>\n",
              "    </tr>\n",
              "    <tr>\n",
              "      <th>46</th>\n",
              "      <td>False</td>\n",
              "      <td>False</td>\n",
              "      <td>False</td>\n",
              "      <td>False</td>\n",
              "      <td>False</td>\n",
              "      <td>False</td>\n",
              "    </tr>\n",
              "    <tr>\n",
              "      <th>47</th>\n",
              "      <td>False</td>\n",
              "      <td>False</td>\n",
              "      <td>False</td>\n",
              "      <td>False</td>\n",
              "      <td>False</td>\n",
              "      <td>False</td>\n",
              "    </tr>\n",
              "    <tr>\n",
              "      <th>48</th>\n",
              "      <td>False</td>\n",
              "      <td>False</td>\n",
              "      <td>False</td>\n",
              "      <td>False</td>\n",
              "      <td>False</td>\n",
              "      <td>False</td>\n",
              "    </tr>\n",
              "    <tr>\n",
              "      <th>49</th>\n",
              "      <td>False</td>\n",
              "      <td>False</td>\n",
              "      <td>False</td>\n",
              "      <td>False</td>\n",
              "      <td>False</td>\n",
              "      <td>False</td>\n",
              "    </tr>\n",
              "    <tr>\n",
              "      <th>50</th>\n",
              "      <td>False</td>\n",
              "      <td>True</td>\n",
              "      <td>True</td>\n",
              "      <td>True</td>\n",
              "      <td>True</td>\n",
              "      <td>True</td>\n",
              "    </tr>\n",
              "  </tbody>\n",
              "</table>\n",
              "</div>"
            ],
            "text/plain": [
              "    Undergraduate Major  Starting Median Salary  Mid-Career Median Salary  \\\n",
              "0                 False                   False                     False   \n",
              "1                 False                   False                     False   \n",
              "2                 False                   False                     False   \n",
              "3                 False                   False                     False   \n",
              "4                 False                   False                     False   \n",
              "5                 False                   False                     False   \n",
              "6                 False                   False                     False   \n",
              "7                 False                   False                     False   \n",
              "8                 False                   False                     False   \n",
              "9                 False                   False                     False   \n",
              "10                False                   False                     False   \n",
              "11                False                   False                     False   \n",
              "12                False                   False                     False   \n",
              "13                False                   False                     False   \n",
              "14                False                   False                     False   \n",
              "15                False                   False                     False   \n",
              "16                False                   False                     False   \n",
              "17                False                   False                     False   \n",
              "18                False                   False                     False   \n",
              "19                False                   False                     False   \n",
              "20                False                   False                     False   \n",
              "21                False                   False                     False   \n",
              "22                False                   False                     False   \n",
              "23                False                   False                     False   \n",
              "24                False                   False                     False   \n",
              "25                False                   False                     False   \n",
              "26                False                   False                     False   \n",
              "27                False                   False                     False   \n",
              "28                False                   False                     False   \n",
              "29                False                   False                     False   \n",
              "30                False                   False                     False   \n",
              "31                False                   False                     False   \n",
              "32                False                   False                     False   \n",
              "33                False                   False                     False   \n",
              "34                False                   False                     False   \n",
              "35                False                   False                     False   \n",
              "36                False                   False                     False   \n",
              "37                False                   False                     False   \n",
              "38                False                   False                     False   \n",
              "39                False                   False                     False   \n",
              "40                False                   False                     False   \n",
              "41                False                   False                     False   \n",
              "42                False                   False                     False   \n",
              "43                False                   False                     False   \n",
              "44                False                   False                     False   \n",
              "45                False                   False                     False   \n",
              "46                False                   False                     False   \n",
              "47                False                   False                     False   \n",
              "48                False                   False                     False   \n",
              "49                False                   False                     False   \n",
              "50                False                    True                      True   \n",
              "\n",
              "    Mid-Career 10th Percentile Salary  Mid-Career 90th Percentile Salary  \\\n",
              "0                               False                              False   \n",
              "1                               False                              False   \n",
              "2                               False                              False   \n",
              "3                               False                              False   \n",
              "4                               False                              False   \n",
              "5                               False                              False   \n",
              "6                               False                              False   \n",
              "7                               False                              False   \n",
              "8                               False                              False   \n",
              "9                               False                              False   \n",
              "10                              False                              False   \n",
              "11                              False                              False   \n",
              "12                              False                              False   \n",
              "13                              False                              False   \n",
              "14                              False                              False   \n",
              "15                              False                              False   \n",
              "16                              False                              False   \n",
              "17                              False                              False   \n",
              "18                              False                              False   \n",
              "19                              False                              False   \n",
              "20                              False                              False   \n",
              "21                              False                              False   \n",
              "22                              False                              False   \n",
              "23                              False                              False   \n",
              "24                              False                              False   \n",
              "25                              False                              False   \n",
              "26                              False                              False   \n",
              "27                              False                              False   \n",
              "28                              False                              False   \n",
              "29                              False                              False   \n",
              "30                              False                              False   \n",
              "31                              False                              False   \n",
              "32                              False                              False   \n",
              "33                              False                              False   \n",
              "34                              False                              False   \n",
              "35                              False                              False   \n",
              "36                              False                              False   \n",
              "37                              False                              False   \n",
              "38                              False                              False   \n",
              "39                              False                              False   \n",
              "40                              False                              False   \n",
              "41                              False                              False   \n",
              "42                              False                              False   \n",
              "43                              False                              False   \n",
              "44                              False                              False   \n",
              "45                              False                              False   \n",
              "46                              False                              False   \n",
              "47                              False                              False   \n",
              "48                              False                              False   \n",
              "49                              False                              False   \n",
              "50                               True                               True   \n",
              "\n",
              "    Group  \n",
              "0   False  \n",
              "1   False  \n",
              "2   False  \n",
              "3   False  \n",
              "4   False  \n",
              "5   False  \n",
              "6   False  \n",
              "7   False  \n",
              "8   False  \n",
              "9   False  \n",
              "10  False  \n",
              "11  False  \n",
              "12  False  \n",
              "13  False  \n",
              "14  False  \n",
              "15  False  \n",
              "16  False  \n",
              "17  False  \n",
              "18  False  \n",
              "19  False  \n",
              "20  False  \n",
              "21  False  \n",
              "22  False  \n",
              "23  False  \n",
              "24  False  \n",
              "25  False  \n",
              "26  False  \n",
              "27  False  \n",
              "28  False  \n",
              "29  False  \n",
              "30  False  \n",
              "31  False  \n",
              "32  False  \n",
              "33  False  \n",
              "34  False  \n",
              "35  False  \n",
              "36  False  \n",
              "37  False  \n",
              "38  False  \n",
              "39  False  \n",
              "40  False  \n",
              "41  False  \n",
              "42  False  \n",
              "43  False  \n",
              "44  False  \n",
              "45  False  \n",
              "46  False  \n",
              "47  False  \n",
              "48  False  \n",
              "49  False  \n",
              "50   True  "
            ]
          },
          "execution_count": 32,
          "metadata": {},
          "output_type": "execute_result"
        }
      ],
      "source": [
        "df.isna()"
      ]
    },
    {
      "cell_type": "code",
      "execution_count": 33,
      "metadata": {
        "colab": {
          "base_uri": "https://localhost:8080/",
          "height": 237
        },
        "id": "gOxwMshdk207",
        "outputId": "02de10d7-770a-4fd6-bab2-3ddd66a97862"
      },
      "outputs": [
        {
          "data": {
            "text/html": [
              "<div>\n",
              "<style scoped>\n",
              "    .dataframe tbody tr th:only-of-type {\n",
              "        vertical-align: middle;\n",
              "    }\n",
              "\n",
              "    .dataframe tbody tr th {\n",
              "        vertical-align: top;\n",
              "    }\n",
              "\n",
              "    .dataframe thead th {\n",
              "        text-align: right;\n",
              "    }\n",
              "</style>\n",
              "<table border=\"1\" class=\"dataframe\">\n",
              "  <thead>\n",
              "    <tr style=\"text-align: right;\">\n",
              "      <th></th>\n",
              "      <th>Undergraduate Major</th>\n",
              "      <th>Starting Median Salary</th>\n",
              "      <th>Mid-Career Median Salary</th>\n",
              "      <th>Mid-Career 10th Percentile Salary</th>\n",
              "      <th>Mid-Career 90th Percentile Salary</th>\n",
              "      <th>Group</th>\n",
              "    </tr>\n",
              "  </thead>\n",
              "  <tbody>\n",
              "    <tr>\n",
              "      <th>46</th>\n",
              "      <td>Psychology</td>\n",
              "      <td>59800.0</td>\n",
              "      <td>109600.0</td>\n",
              "      <td>31600.0</td>\n",
              "      <td>127000.0</td>\n",
              "      <td>HASS</td>\n",
              "    </tr>\n",
              "    <tr>\n",
              "      <th>47</th>\n",
              "      <td>Religion</td>\n",
              "      <td>52800.0</td>\n",
              "      <td>85700.0</td>\n",
              "      <td>29700.0</td>\n",
              "      <td>96400.0</td>\n",
              "      <td>HASS</td>\n",
              "    </tr>\n",
              "    <tr>\n",
              "      <th>48</th>\n",
              "      <td>Sociology</td>\n",
              "      <td>51900.0</td>\n",
              "      <td>80600.0</td>\n",
              "      <td>30700.0</td>\n",
              "      <td>118000.0</td>\n",
              "      <td>HASS</td>\n",
              "    </tr>\n",
              "    <tr>\n",
              "      <th>49</th>\n",
              "      <td>Spanish</td>\n",
              "      <td>54700.0</td>\n",
              "      <td>84300.0</td>\n",
              "      <td>31000.0</td>\n",
              "      <td>96400.0</td>\n",
              "      <td>HASS</td>\n",
              "    </tr>\n",
              "    <tr>\n",
              "      <th>50</th>\n",
              "      <td>Source: PayScale Inc.</td>\n",
              "      <td>NaN</td>\n",
              "      <td>NaN</td>\n",
              "      <td>NaN</td>\n",
              "      <td>NaN</td>\n",
              "      <td>NaN</td>\n",
              "    </tr>\n",
              "  </tbody>\n",
              "</table>\n",
              "</div>"
            ],
            "text/plain": [
              "      Undergraduate Major  Starting Median Salary  Mid-Career Median Salary  \\\n",
              "46             Psychology                 59800.0                  109600.0   \n",
              "47               Religion                 52800.0                   85700.0   \n",
              "48              Sociology                 51900.0                   80600.0   \n",
              "49                Spanish                 54700.0                   84300.0   \n",
              "50  Source: PayScale Inc.                     NaN                       NaN   \n",
              "\n",
              "    Mid-Career 10th Percentile Salary  Mid-Career 90th Percentile Salary Group  \n",
              "46                            31600.0                           127000.0  HASS  \n",
              "47                            29700.0                            96400.0  HASS  \n",
              "48                            30700.0                           118000.0  HASS  \n",
              "49                            31000.0                            96400.0  HASS  \n",
              "50                                NaN                                NaN   NaN  "
            ]
          },
          "execution_count": 33,
          "metadata": {},
          "output_type": "execute_result"
        }
      ],
      "source": [
        "df.tail()"
      ]
    },
    {
      "cell_type": "code",
      "execution_count": 34,
      "metadata": {
        "colab": {
          "base_uri": "https://localhost:8080/",
          "height": 219
        },
        "id": "ag1fbMC0ltur",
        "outputId": "ddf82680-ca3e-42a0-9fd1-36d49726789e"
      },
      "outputs": [
        {
          "data": {
            "text/html": [
              "<div>\n",
              "<style scoped>\n",
              "    .dataframe tbody tr th:only-of-type {\n",
              "        vertical-align: middle;\n",
              "    }\n",
              "\n",
              "    .dataframe tbody tr th {\n",
              "        vertical-align: top;\n",
              "    }\n",
              "\n",
              "    .dataframe thead th {\n",
              "        text-align: right;\n",
              "    }\n",
              "</style>\n",
              "<table border=\"1\" class=\"dataframe\">\n",
              "  <thead>\n",
              "    <tr style=\"text-align: right;\">\n",
              "      <th></th>\n",
              "      <th>Undergraduate Major</th>\n",
              "      <th>Starting Median Salary</th>\n",
              "      <th>Mid-Career Median Salary</th>\n",
              "      <th>Mid-Career 10th Percentile Salary</th>\n",
              "      <th>Mid-Career 90th Percentile Salary</th>\n",
              "      <th>Group</th>\n",
              "    </tr>\n",
              "  </thead>\n",
              "  <tbody>\n",
              "    <tr>\n",
              "      <th>45</th>\n",
              "      <td>Political Science</td>\n",
              "      <td>77900.0</td>\n",
              "      <td>137700.0</td>\n",
              "      <td>41200.0</td>\n",
              "      <td>168000.0</td>\n",
              "      <td>HASS</td>\n",
              "    </tr>\n",
              "    <tr>\n",
              "      <th>46</th>\n",
              "      <td>Psychology</td>\n",
              "      <td>59800.0</td>\n",
              "      <td>109600.0</td>\n",
              "      <td>31600.0</td>\n",
              "      <td>127000.0</td>\n",
              "      <td>HASS</td>\n",
              "    </tr>\n",
              "    <tr>\n",
              "      <th>47</th>\n",
              "      <td>Religion</td>\n",
              "      <td>52800.0</td>\n",
              "      <td>85700.0</td>\n",
              "      <td>29700.0</td>\n",
              "      <td>96400.0</td>\n",
              "      <td>HASS</td>\n",
              "    </tr>\n",
              "    <tr>\n",
              "      <th>48</th>\n",
              "      <td>Sociology</td>\n",
              "      <td>51900.0</td>\n",
              "      <td>80600.0</td>\n",
              "      <td>30700.0</td>\n",
              "      <td>118000.0</td>\n",
              "      <td>HASS</td>\n",
              "    </tr>\n",
              "    <tr>\n",
              "      <th>49</th>\n",
              "      <td>Spanish</td>\n",
              "      <td>54700.0</td>\n",
              "      <td>84300.0</td>\n",
              "      <td>31000.0</td>\n",
              "      <td>96400.0</td>\n",
              "      <td>HASS</td>\n",
              "    </tr>\n",
              "  </tbody>\n",
              "</table>\n",
              "</div>"
            ],
            "text/plain": [
              "   Undergraduate Major  Starting Median Salary  Mid-Career Median Salary  \\\n",
              "45   Political Science                 77900.0                  137700.0   \n",
              "46          Psychology                 59800.0                  109600.0   \n",
              "47            Religion                 52800.0                   85700.0   \n",
              "48           Sociology                 51900.0                   80600.0   \n",
              "49             Spanish                 54700.0                   84300.0   \n",
              "\n",
              "    Mid-Career 10th Percentile Salary  Mid-Career 90th Percentile Salary Group  \n",
              "45                            41200.0                           168000.0  HASS  \n",
              "46                            31600.0                           127000.0  HASS  \n",
              "47                            29700.0                            96400.0  HASS  \n",
              "48                            30700.0                           118000.0  HASS  \n",
              "49                            31000.0                            96400.0  HASS  "
            ]
          },
          "execution_count": 34,
          "metadata": {},
          "output_type": "execute_result"
        }
      ],
      "source": [
        "clean_df = df.dropna()\n",
        "clean_df.tail()"
      ]
    },
    {
      "cell_type": "markdown",
      "metadata": {
        "id": "oaKtSQloWVC2"
      },
      "source": [
        "# Accessing Columns and Individual Cells"
      ]
    },
    {
      "cell_type": "code",
      "execution_count": 35,
      "metadata": {
        "colab": {
          "base_uri": "https://localhost:8080/"
        },
        "id": "jmG-K0HPnrO3",
        "outputId": "79a9500b-26a8-430f-dcd1-3ec77e6091c8"
      },
      "outputs": [
        {
          "data": {
            "text/plain": [
              "np.float64(87700.0)"
            ]
          },
          "execution_count": 35,
          "metadata": {},
          "output_type": "execute_result"
        }
      ],
      "source": [
        "clean_df['Starting Median Salary'].max()"
      ]
    },
    {
      "cell_type": "code",
      "execution_count": 36,
      "metadata": {
        "colab": {
          "base_uri": "https://localhost:8080/"
        },
        "id": "PAoOp9r8nsKo",
        "outputId": "de404d22-62d1-43d8-a3d0-018ef81d2a22"
      },
      "outputs": [
        {
          "data": {
            "text/plain": [
              "np.int64(9)"
            ]
          },
          "execution_count": 36,
          "metadata": {},
          "output_type": "execute_result"
        }
      ],
      "source": [
        "clean_df['Starting Median Salary'].idxmax()"
      ]
    },
    {
      "cell_type": "code",
      "execution_count": 37,
      "metadata": {},
      "outputs": [
        {
          "data": {
            "text/plain": [
              "Undergraduate Major                  Physician Assistant\n",
              "Starting Median Salary                           62700.0\n",
              "Mid-Career Median Salary                        108400.0\n",
              "Mid-Career 10th Percentile Salary                66400.0\n",
              "Mid-Career 90th Percentile Salary               124000.0\n",
              "Group                                               STEM\n",
              "Name: 43, dtype: object"
            ]
          },
          "execution_count": 37,
          "metadata": {},
          "output_type": "execute_result"
        }
      ],
      "source": [
        "clean_df.loc[43]"
      ]
    },
    {
      "cell_type": "code",
      "execution_count": 38,
      "metadata": {
        "colab": {
          "base_uri": "https://localhost:8080/"
        },
        "id": "MzEgHdhZodAq",
        "outputId": "57cee6bb-dff0-407f-87a7-a020e7736261"
      },
      "outputs": [
        {
          "data": {
            "text/plain": [
              "np.float64(62700.0)"
            ]
          },
          "execution_count": 38,
          "metadata": {},
          "output_type": "execute_result"
        }
      ],
      "source": [
        "clean_df['Starting Median Salary'][43]"
      ]
    },
    {
      "cell_type": "code",
      "execution_count": 39,
      "metadata": {
        "colab": {
          "base_uri": "https://localhost:8080/",
          "height": 35
        },
        "id": "A8RqDxtto48F",
        "outputId": "b2bd670b-1cf5-4798-8af6-92b55c365c57"
      },
      "outputs": [
        {
          "data": {
            "text/plain": [
              "'Physician Assistant'"
            ]
          },
          "execution_count": 39,
          "metadata": {},
          "output_type": "execute_result"
        }
      ],
      "source": [
        "clean_df['Undergraduate Major'].loc[43]"
      ]
    },
    {
      "cell_type": "code",
      "execution_count": 40,
      "metadata": {
        "colab": {
          "base_uri": "https://localhost:8080/",
          "height": 35
        },
        "id": "CPXcE9mRpFnL",
        "outputId": "e5d46bbf-5ca8-416a-a4c5-444d07b3dc1c"
      },
      "outputs": [
        {
          "data": {
            "text/plain": [
              "'Physician Assistant'"
            ]
          },
          "execution_count": 40,
          "metadata": {},
          "output_type": "execute_result"
        }
      ],
      "source": [
        "clean_df['Undergraduate Major'][43]"
      ]
    },
    {
      "cell_type": "code",
      "execution_count": 41,
      "metadata": {
        "colab": {
          "base_uri": "https://localhost:8080/"
        },
        "id": "Se2YRmsypgqw",
        "outputId": "3a9fdf24-40d8-4be2-e499-abfced6a8174"
      },
      "outputs": [
        {
          "data": {
            "text/plain": [
              "Undergraduate Major                  Physician Assistant\n",
              "Starting Median Salary                           62700.0\n",
              "Mid-Career Median Salary                        108400.0\n",
              "Mid-Career 10th Percentile Salary                66400.0\n",
              "Mid-Career 90th Percentile Salary               124000.0\n",
              "Group                                               STEM\n",
              "Name: 43, dtype: object"
            ]
          },
          "execution_count": 41,
          "metadata": {},
          "output_type": "execute_result"
        }
      ],
      "source": [
        "clean_df.loc[43]"
      ]
    },
    {
      "cell_type": "markdown",
      "metadata": {
        "id": "18_KA7l7WfDh"
      },
      "source": [
        "# Highest and Lowest Earning Degrees"
      ]
    },
    {
      "cell_type": "code",
      "execution_count": 42,
      "metadata": {
        "colab": {
          "base_uri": "https://localhost:8080/",
          "height": 70
        },
        "id": "_EvDORASpjDu",
        "outputId": "28f4bb3b-bb6b-4181-c114-5d38584d4015"
      },
      "outputs": [
        {
          "name": "stdout",
          "output_type": "stream",
          "text": [
            "156100.0\n",
            "Index for the max mid career salary: 9\n"
          ]
        },
        {
          "data": {
            "text/plain": [
              "'Chemical Engineering'"
            ]
          },
          "execution_count": 42,
          "metadata": {},
          "output_type": "execute_result"
        }
      ],
      "source": [
        "print(clean_df['Mid-Career Median Salary'].max())\n",
        "print(f\"Index for the max mid career salary: {clean_df['Mid-Career Median Salary'].idxmax()}\")\n",
        "clean_df['Undergraduate Major'][8]"
      ]
    },
    {
      "cell_type": "code",
      "execution_count": 43,
      "metadata": {
        "colab": {
          "base_uri": "https://localhost:8080/",
          "height": 53
        },
        "id": "dQGN8gZntL2V",
        "outputId": "de1d812a-129e-4ebd-9f27-a87ffc8b51b5"
      },
      "outputs": [
        {
          "name": "stdout",
          "output_type": "stream",
          "text": [
            "35000.0\n"
          ]
        },
        {
          "data": {
            "text/plain": [
              "'Criminal Justice'"
            ]
          },
          "execution_count": 43,
          "metadata": {},
          "output_type": "execute_result"
        }
      ],
      "source": [
        "print(clean_df['Starting Median Salary'].min())\n",
        "clean_df['Undergraduate Major'].loc[clean_df['Starting Median Salary'].idxmin()]"
      ]
    },
    {
      "cell_type": "code",
      "execution_count": 44,
      "metadata": {
        "colab": {
          "base_uri": "https://localhost:8080/"
        },
        "id": "Z0rvJWSdtNN5",
        "outputId": "8bac1794-a54a-40ff-992a-a3051cc5d60e"
      },
      "outputs": [
        {
          "data": {
            "text/plain": [
              "Undergraduate Major                     Music\n",
              "Starting Median Salary                35900.0\n",
              "Mid-Career Median Salary              55000.0\n",
              "Mid-Career 10th Percentile Salary     26700.0\n",
              "Mid-Career 90th Percentile Salary    134000.0\n",
              "Group                                    HASS\n",
              "Name: 39, dtype: object"
            ]
          },
          "execution_count": 44,
          "metadata": {},
          "output_type": "execute_result"
        }
      ],
      "source": [
        "clean_df.loc[clean_df['Mid-Career Median Salary'].idxmin()]"
      ]
    },
    {
      "cell_type": "markdown",
      "metadata": {
        "id": "cd_pPQo7Wkxi"
      },
      "source": [
        "#Majors with the Most Potential vs Lowest Risk"
      ]
    },
    {
      "cell_type": "code",
      "execution_count": 45,
      "metadata": {
        "colab": {
          "base_uri": "https://localhost:8080/",
          "height": 254
        },
        "id": "Pqw8VPbEtpcR",
        "outputId": "a20724d5-4705-4925-b41d-fa778690b358"
      },
      "outputs": [
        {
          "data": {
            "text/html": [
              "<div>\n",
              "<style scoped>\n",
              "    .dataframe tbody tr th:only-of-type {\n",
              "        vertical-align: middle;\n",
              "    }\n",
              "\n",
              "    .dataframe tbody tr th {\n",
              "        vertical-align: top;\n",
              "    }\n",
              "\n",
              "    .dataframe thead th {\n",
              "        text-align: right;\n",
              "    }\n",
              "</style>\n",
              "<table border=\"1\" class=\"dataframe\">\n",
              "  <thead>\n",
              "    <tr style=\"text-align: right;\">\n",
              "      <th></th>\n",
              "      <th>Undergraduate Major</th>\n",
              "      <th>Spread</th>\n",
              "      <th>Starting Median Salary</th>\n",
              "      <th>Mid-Career Median Salary</th>\n",
              "      <th>Mid-Career 10th Percentile Salary</th>\n",
              "      <th>Mid-Career 90th Percentile Salary</th>\n",
              "      <th>Group</th>\n",
              "    </tr>\n",
              "  </thead>\n",
              "  <tbody>\n",
              "    <tr>\n",
              "      <th>0</th>\n",
              "      <td>Accounting</td>\n",
              "      <td>109800.0</td>\n",
              "      <td>46000.0</td>\n",
              "      <td>77100.0</td>\n",
              "      <td>42200.0</td>\n",
              "      <td>152000.0</td>\n",
              "      <td>Business</td>\n",
              "    </tr>\n",
              "    <tr>\n",
              "      <th>1</th>\n",
              "      <td>Aerospace Engineering</td>\n",
              "      <td>96700.0</td>\n",
              "      <td>64200.0</td>\n",
              "      <td>108300.0</td>\n",
              "      <td>64300.0</td>\n",
              "      <td>161000.0</td>\n",
              "      <td>STEM</td>\n",
              "    </tr>\n",
              "    <tr>\n",
              "      <th>2</th>\n",
              "      <td>Agriculture</td>\n",
              "      <td>113700.0</td>\n",
              "      <td>42600.0</td>\n",
              "      <td>71900.0</td>\n",
              "      <td>36300.0</td>\n",
              "      <td>150000.0</td>\n",
              "      <td>Business</td>\n",
              "    </tr>\n",
              "    <tr>\n",
              "      <th>3</th>\n",
              "      <td>Anthropology</td>\n",
              "      <td>104200.0</td>\n",
              "      <td>36800.0</td>\n",
              "      <td>61500.0</td>\n",
              "      <td>33800.0</td>\n",
              "      <td>138000.0</td>\n",
              "      <td>HASS</td>\n",
              "    </tr>\n",
              "    <tr>\n",
              "      <th>4</th>\n",
              "      <td>Architecture</td>\n",
              "      <td>85400.0</td>\n",
              "      <td>55200.0</td>\n",
              "      <td>85200.0</td>\n",
              "      <td>50600.0</td>\n",
              "      <td>136000.0</td>\n",
              "      <td>Business</td>\n",
              "    </tr>\n",
              "  </tbody>\n",
              "</table>\n",
              "</div>"
            ],
            "text/plain": [
              "     Undergraduate Major    Spread  Starting Median Salary  \\\n",
              "0             Accounting  109800.0                 46000.0   \n",
              "1  Aerospace Engineering   96700.0                 64200.0   \n",
              "2            Agriculture  113700.0                 42600.0   \n",
              "3           Anthropology  104200.0                 36800.0   \n",
              "4           Architecture   85400.0                 55200.0   \n",
              "\n",
              "   Mid-Career Median Salary  Mid-Career 10th Percentile Salary  \\\n",
              "0                   77100.0                            42200.0   \n",
              "1                  108300.0                            64300.0   \n",
              "2                   71900.0                            36300.0   \n",
              "3                   61500.0                            33800.0   \n",
              "4                   85200.0                            50600.0   \n",
              "\n",
              "   Mid-Career 90th Percentile Salary     Group  \n",
              "0                           152000.0  Business  \n",
              "1                           161000.0      STEM  \n",
              "2                           150000.0  Business  \n",
              "3                           138000.0      HASS  \n",
              "4                           136000.0  Business  "
            ]
          },
          "execution_count": 45,
          "metadata": {},
          "output_type": "execute_result"
        }
      ],
      "source": [
        "# clean_df['Mid-Career 90th Percentile Salary'] - clean_df['Mid-Career 10th Percentile Salary']\n",
        "# clean_df['Mid-Career 90th Percentile Salary'].subtract(clean_df['Mid-Career 10th Percentile Salary'])\n",
        "spread_col = clean_df['Mid-Career 90th Percentile Salary'] - clean_df['Mid-Career 10th Percentile Salary']\n",
        "clean_df.insert(1, 'Spread', spread_col)\n",
        "clean_df.head()"
      ]
    },
    {
      "cell_type": "code",
      "execution_count": 46,
      "metadata": {
        "colab": {
          "base_uri": "https://localhost:8080/",
          "height": 202
        },
        "id": "uBokcGx_uj6R",
        "outputId": "8449be8f-8d34-49a1-add0-a55d2b0bb050"
      },
      "outputs": [
        {
          "data": {
            "text/html": [
              "<div>\n",
              "<style scoped>\n",
              "    .dataframe tbody tr th:only-of-type {\n",
              "        vertical-align: middle;\n",
              "    }\n",
              "\n",
              "    .dataframe tbody tr th {\n",
              "        vertical-align: top;\n",
              "    }\n",
              "\n",
              "    .dataframe thead th {\n",
              "        text-align: right;\n",
              "    }\n",
              "</style>\n",
              "<table border=\"1\" class=\"dataframe\">\n",
              "  <thead>\n",
              "    <tr style=\"text-align: right;\">\n",
              "      <th></th>\n",
              "      <th>Undergraduate Major</th>\n",
              "      <th>Spread</th>\n",
              "    </tr>\n",
              "  </thead>\n",
              "  <tbody>\n",
              "    <tr>\n",
              "      <th>17</th>\n",
              "      <td>Economics</td>\n",
              "      <td>159400.0</td>\n",
              "    </tr>\n",
              "    <tr>\n",
              "      <th>22</th>\n",
              "      <td>Finance</td>\n",
              "      <td>147800.0</td>\n",
              "    </tr>\n",
              "    <tr>\n",
              "      <th>37</th>\n",
              "      <td>Math</td>\n",
              "      <td>137800.0</td>\n",
              "    </tr>\n",
              "    <tr>\n",
              "      <th>36</th>\n",
              "      <td>Marketing</td>\n",
              "      <td>132900.0</td>\n",
              "    </tr>\n",
              "    <tr>\n",
              "      <th>42</th>\n",
              "      <td>Philosophy</td>\n",
              "      <td>132500.0</td>\n",
              "    </tr>\n",
              "  </tbody>\n",
              "</table>\n",
              "</div>"
            ],
            "text/plain": [
              "   Undergraduate Major    Spread\n",
              "17           Economics  159400.0\n",
              "22             Finance  147800.0\n",
              "37                Math  137800.0\n",
              "36           Marketing  132900.0\n",
              "42          Philosophy  132500.0"
            ]
          },
          "execution_count": 46,
          "metadata": {},
          "output_type": "execute_result"
        }
      ],
      "source": [
        "low_risk = clean_df.sort_values('Spread',ascending=False)\n",
        "low_risk[['Undergraduate Major', 'Spread']].head()"
      ]
    },
    {
      "cell_type": "markdown",
      "metadata": {
        "id": "hQBSdbJIWqJY"
      },
      "source": [
        "# Degrees with the Highest Potential"
      ]
    },
    {
      "cell_type": "code",
      "execution_count": 47,
      "metadata": {
        "colab": {
          "base_uri": "https://localhost:8080/",
          "height": 202
        },
        "id": "SShtBkCQKk3O",
        "outputId": "1c26b91b-f17f-41ca-f7d6-32f3fa6d138a"
      },
      "outputs": [
        {
          "data": {
            "text/html": [
              "<div>\n",
              "<style scoped>\n",
              "    .dataframe tbody tr th:only-of-type {\n",
              "        vertical-align: middle;\n",
              "    }\n",
              "\n",
              "    .dataframe tbody tr th {\n",
              "        vertical-align: top;\n",
              "    }\n",
              "\n",
              "    .dataframe thead th {\n",
              "        text-align: right;\n",
              "    }\n",
              "</style>\n",
              "<table border=\"1\" class=\"dataframe\">\n",
              "  <thead>\n",
              "    <tr style=\"text-align: right;\">\n",
              "      <th></th>\n",
              "      <th>Undergraduate Major</th>\n",
              "      <th>Mid-Career 90th Percentile Salary</th>\n",
              "    </tr>\n",
              "  </thead>\n",
              "  <tbody>\n",
              "    <tr>\n",
              "      <th>17</th>\n",
              "      <td>Economics</td>\n",
              "      <td>210000.0</td>\n",
              "    </tr>\n",
              "    <tr>\n",
              "      <th>22</th>\n",
              "      <td>Finance</td>\n",
              "      <td>195000.0</td>\n",
              "    </tr>\n",
              "    <tr>\n",
              "      <th>8</th>\n",
              "      <td>Chemical Engineering</td>\n",
              "      <td>194000.0</td>\n",
              "    </tr>\n",
              "    <tr>\n",
              "      <th>37</th>\n",
              "      <td>Math</td>\n",
              "      <td>183000.0</td>\n",
              "    </tr>\n",
              "    <tr>\n",
              "      <th>44</th>\n",
              "      <td>Physics</td>\n",
              "      <td>178000.0</td>\n",
              "    </tr>\n",
              "  </tbody>\n",
              "</table>\n",
              "</div>"
            ],
            "text/plain": [
              "     Undergraduate Major  Mid-Career 90th Percentile Salary\n",
              "17             Economics                           210000.0\n",
              "22               Finance                           195000.0\n",
              "8   Chemical Engineering                           194000.0\n",
              "37                  Math                           183000.0\n",
              "44               Physics                           178000.0"
            ]
          },
          "execution_count": 47,
          "metadata": {},
          "output_type": "execute_result"
        }
      ],
      "source": [
        "highest_potential = clean_df.sort_values('Mid-Career 90th Percentile Salary', ascending=False)\n",
        "highest_potential[['Undergraduate Major', 'Mid-Career 90th Percentile Salary']].head()"
      ]
    },
    {
      "cell_type": "code",
      "execution_count": 48,
      "metadata": {
        "colab": {
          "base_uri": "https://localhost:8080/",
          "height": 202
        },
        "id": "C1hg41AqOkk3",
        "outputId": "533f4ae0-ec05-4814-b9d6-ac94c870f9fa"
      },
      "outputs": [
        {
          "data": {
            "text/html": [
              "<div>\n",
              "<style scoped>\n",
              "    .dataframe tbody tr th:only-of-type {\n",
              "        vertical-align: middle;\n",
              "    }\n",
              "\n",
              "    .dataframe tbody tr th {\n",
              "        vertical-align: top;\n",
              "    }\n",
              "\n",
              "    .dataframe thead th {\n",
              "        text-align: right;\n",
              "    }\n",
              "</style>\n",
              "<table border=\"1\" class=\"dataframe\">\n",
              "  <thead>\n",
              "    <tr style=\"text-align: right;\">\n",
              "      <th></th>\n",
              "      <th>Undergraduate Major</th>\n",
              "      <th>Spread</th>\n",
              "    </tr>\n",
              "  </thead>\n",
              "  <tbody>\n",
              "    <tr>\n",
              "      <th>17</th>\n",
              "      <td>Economics</td>\n",
              "      <td>159400.0</td>\n",
              "    </tr>\n",
              "    <tr>\n",
              "      <th>22</th>\n",
              "      <td>Finance</td>\n",
              "      <td>147800.0</td>\n",
              "    </tr>\n",
              "    <tr>\n",
              "      <th>37</th>\n",
              "      <td>Math</td>\n",
              "      <td>137800.0</td>\n",
              "    </tr>\n",
              "    <tr>\n",
              "      <th>36</th>\n",
              "      <td>Marketing</td>\n",
              "      <td>132900.0</td>\n",
              "    </tr>\n",
              "    <tr>\n",
              "      <th>42</th>\n",
              "      <td>Philosophy</td>\n",
              "      <td>132500.0</td>\n",
              "    </tr>\n",
              "  </tbody>\n",
              "</table>\n",
              "</div>"
            ],
            "text/plain": [
              "   Undergraduate Major    Spread\n",
              "17           Economics  159400.0\n",
              "22             Finance  147800.0\n",
              "37                Math  137800.0\n",
              "36           Marketing  132900.0\n",
              "42          Philosophy  132500.0"
            ]
          },
          "execution_count": 48,
          "metadata": {},
          "output_type": "execute_result"
        }
      ],
      "source": [
        "highest_spread = clean_df.sort_values('Spread', ascending=False)\n",
        "highest_spread[['Undergraduate Major', 'Spread']].head()"
      ]
    },
    {
      "cell_type": "code",
      "execution_count": 49,
      "metadata": {
        "colab": {
          "base_uri": "https://localhost:8080/",
          "height": 202
        },
        "id": "kKeiNcrzO-K5",
        "outputId": "3aaf2680-7e13-4447-a23a-3743257e45a5"
      },
      "outputs": [
        {
          "data": {
            "text/html": [
              "<div>\n",
              "<style scoped>\n",
              "    .dataframe tbody tr th:only-of-type {\n",
              "        vertical-align: middle;\n",
              "    }\n",
              "\n",
              "    .dataframe tbody tr th {\n",
              "        vertical-align: top;\n",
              "    }\n",
              "\n",
              "    .dataframe thead th {\n",
              "        text-align: right;\n",
              "    }\n",
              "</style>\n",
              "<table border=\"1\" class=\"dataframe\">\n",
              "  <thead>\n",
              "    <tr style=\"text-align: right;\">\n",
              "      <th></th>\n",
              "      <th>Undergraduate Major</th>\n",
              "      <th>Mid-Career Median Salary</th>\n",
              "    </tr>\n",
              "  </thead>\n",
              "  <tbody>\n",
              "    <tr>\n",
              "      <th>9</th>\n",
              "      <td>Chemistry</td>\n",
              "      <td>156100.0</td>\n",
              "    </tr>\n",
              "    <tr>\n",
              "      <th>45</th>\n",
              "      <td>Political Science</td>\n",
              "      <td>137700.0</td>\n",
              "    </tr>\n",
              "    <tr>\n",
              "      <th>18</th>\n",
              "      <td>Education</td>\n",
              "      <td>134200.0</td>\n",
              "    </tr>\n",
              "    <tr>\n",
              "      <th>36</th>\n",
              "      <td>Marketing</td>\n",
              "      <td>133400.0</td>\n",
              "    </tr>\n",
              "    <tr>\n",
              "      <th>23</th>\n",
              "      <td>Forestry</td>\n",
              "      <td>122000.0</td>\n",
              "    </tr>\n",
              "  </tbody>\n",
              "</table>\n",
              "</div>"
            ],
            "text/plain": [
              "   Undergraduate Major  Mid-Career Median Salary\n",
              "9            Chemistry                  156100.0\n",
              "45   Political Science                  137700.0\n",
              "18           Education                  134200.0\n",
              "36           Marketing                  133400.0\n",
              "23            Forestry                  122000.0"
            ]
          },
          "execution_count": 49,
          "metadata": {},
          "output_type": "execute_result"
        }
      ],
      "source": [
        "highest_spread = clean_df.sort_values('Mid-Career Median Salary', ascending=False)\n",
        "highest_spread[['Undergraduate Major', 'Mid-Career Median Salary']].head()"
      ]
    },
    {
      "cell_type": "markdown",
      "metadata": {
        "id": "xG7RuPajWwkN"
      },
      "source": [
        "# Grouping and Pivoting Data with Pandas"
      ]
    },
    {
      "cell_type": "code",
      "execution_count": 50,
      "metadata": {
        "colab": {
          "base_uri": "https://localhost:8080/",
          "height": 206
        },
        "id": "LKAVOVJTP5iQ",
        "outputId": "b9eb6c5a-9f04-49e3-e99d-9c425a97f05f"
      },
      "outputs": [
        {
          "data": {
            "text/html": [
              "<div>\n",
              "<style scoped>\n",
              "    .dataframe tbody tr th:only-of-type {\n",
              "        vertical-align: middle;\n",
              "    }\n",
              "\n",
              "    .dataframe tbody tr th {\n",
              "        vertical-align: top;\n",
              "    }\n",
              "\n",
              "    .dataframe thead th {\n",
              "        text-align: right;\n",
              "    }\n",
              "</style>\n",
              "<table border=\"1\" class=\"dataframe\">\n",
              "  <thead>\n",
              "    <tr style=\"text-align: right;\">\n",
              "      <th></th>\n",
              "      <th>Undergraduate Major</th>\n",
              "      <th>Spread</th>\n",
              "      <th>Starting Median Salary</th>\n",
              "      <th>Mid-Career Median Salary</th>\n",
              "      <th>Mid-Career 10th Percentile Salary</th>\n",
              "      <th>Mid-Career 90th Percentile Salary</th>\n",
              "    </tr>\n",
              "    <tr>\n",
              "      <th>Group</th>\n",
              "      <th></th>\n",
              "      <th></th>\n",
              "      <th></th>\n",
              "      <th></th>\n",
              "      <th></th>\n",
              "      <th></th>\n",
              "    </tr>\n",
              "  </thead>\n",
              "  <tbody>\n",
              "    <tr>\n",
              "      <th>Business</th>\n",
              "      <td>12</td>\n",
              "      <td>12</td>\n",
              "      <td>12</td>\n",
              "      <td>12</td>\n",
              "      <td>12</td>\n",
              "      <td>12</td>\n",
              "    </tr>\n",
              "    <tr>\n",
              "      <th>HASS</th>\n",
              "      <td>22</td>\n",
              "      <td>22</td>\n",
              "      <td>22</td>\n",
              "      <td>22</td>\n",
              "      <td>22</td>\n",
              "      <td>22</td>\n",
              "    </tr>\n",
              "    <tr>\n",
              "      <th>STEM</th>\n",
              "      <td>16</td>\n",
              "      <td>16</td>\n",
              "      <td>16</td>\n",
              "      <td>16</td>\n",
              "      <td>16</td>\n",
              "      <td>16</td>\n",
              "    </tr>\n",
              "  </tbody>\n",
              "</table>\n",
              "</div>"
            ],
            "text/plain": [
              "          Undergraduate Major  Spread  Starting Median Salary  \\\n",
              "Group                                                           \n",
              "Business                   12      12                      12   \n",
              "HASS                       22      22                      22   \n",
              "STEM                       16      16                      16   \n",
              "\n",
              "          Mid-Career Median Salary  Mid-Career 10th Percentile Salary  \\\n",
              "Group                                                                   \n",
              "Business                        12                                 12   \n",
              "HASS                            22                                 22   \n",
              "STEM                            16                                 16   \n",
              "\n",
              "          Mid-Career 90th Percentile Salary  \n",
              "Group                                        \n",
              "Business                                 12  \n",
              "HASS                                     22  \n",
              "STEM                                     16  "
            ]
          },
          "execution_count": 50,
          "metadata": {},
          "output_type": "execute_result"
        }
      ],
      "source": [
        "clean_df.groupby('Group').count()"
      ]
    },
    {
      "cell_type": "code",
      "execution_count": 51,
      "metadata": {},
      "outputs": [
        {
          "data": {
            "text/html": [
              "<div>\n",
              "<style scoped>\n",
              "    .dataframe tbody tr th:only-of-type {\n",
              "        vertical-align: middle;\n",
              "    }\n",
              "\n",
              "    .dataframe tbody tr th {\n",
              "        vertical-align: top;\n",
              "    }\n",
              "\n",
              "    .dataframe thead th {\n",
              "        text-align: right;\n",
              "    }\n",
              "</style>\n",
              "<table border=\"1\" class=\"dataframe\">\n",
              "  <thead>\n",
              "    <tr style=\"text-align: right;\">\n",
              "      <th></th>\n",
              "      <th>Spread</th>\n",
              "      <th>Starting Median Salary</th>\n",
              "      <th>Mid-Career Median Salary</th>\n",
              "      <th>Mid-Career 10th Percentile Salary</th>\n",
              "      <th>Mid-Career 90th Percentile Salary</th>\n",
              "    </tr>\n",
              "    <tr>\n",
              "      <th>Group</th>\n",
              "      <th></th>\n",
              "      <th></th>\n",
              "      <th></th>\n",
              "      <th></th>\n",
              "      <th></th>\n",
              "    </tr>\n",
              "  </thead>\n",
              "  <tbody>\n",
              "    <tr>\n",
              "      <th>Business</th>\n",
              "      <td>103958.333333</td>\n",
              "      <td>55575.000000</td>\n",
              "      <td>93500.000000</td>\n",
              "      <td>43566.666667</td>\n",
              "      <td>147525.000000</td>\n",
              "    </tr>\n",
              "    <tr>\n",
              "      <th>HASS</th>\n",
              "      <td>95218.181818</td>\n",
              "      <td>53090.909091</td>\n",
              "      <td>89809.090909</td>\n",
              "      <td>34145.454545</td>\n",
              "      <td>129363.636364</td>\n",
              "    </tr>\n",
              "    <tr>\n",
              "      <th>STEM</th>\n",
              "      <td>101600.000000</td>\n",
              "      <td>58975.000000</td>\n",
              "      <td>99862.500000</td>\n",
              "      <td>56025.000000</td>\n",
              "      <td>157625.000000</td>\n",
              "    </tr>\n",
              "  </tbody>\n",
              "</table>\n",
              "</div>"
            ],
            "text/plain": [
              "                 Spread  Starting Median Salary  Mid-Career Median Salary  \\\n",
              "Group                                                                       \n",
              "Business  103958.333333            55575.000000              93500.000000   \n",
              "HASS       95218.181818            53090.909091              89809.090909   \n",
              "STEM      101600.000000            58975.000000              99862.500000   \n",
              "\n",
              "          Mid-Career 10th Percentile Salary  Mid-Career 90th Percentile Salary  \n",
              "Group                                                                           \n",
              "Business                       43566.666667                      147525.000000  \n",
              "HASS                           34145.454545                      129363.636364  \n",
              "STEM                           56025.000000                      157625.000000  "
            ]
          },
          "execution_count": 51,
          "metadata": {},
          "output_type": "execute_result"
        }
      ],
      "source": [
        "numeric_columns = clean_df.select_dtypes(include=['number'])\n",
        "mean_result = numeric_columns.groupby(clean_df['Group']).mean()\n",
        "mean_result"
      ]
    },
    {
      "cell_type": "code",
      "execution_count": null,
      "metadata": {},
      "outputs": [],
      "source": []
    }
  ],
  "metadata": {
    "colab": {
      "name": "Data Exploration Pandas College Major (complete).ipynb",
      "provenance": [],
      "toc_visible": true
    },
    "kernelspec": {
      "display_name": "env312",
      "language": "python",
      "name": "python3"
    },
    "language_info": {
      "codemirror_mode": {
        "name": "ipython",
        "version": 3
      },
      "file_extension": ".py",
      "mimetype": "text/x-python",
      "name": "python",
      "nbconvert_exporter": "python",
      "pygments_lexer": "ipython3",
      "version": "3.12.4"
    }
  },
  "nbformat": 4,
  "nbformat_minor": 0
}
